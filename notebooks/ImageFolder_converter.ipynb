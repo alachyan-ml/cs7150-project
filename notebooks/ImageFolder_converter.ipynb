{
 "cells": [
  {
   "cell_type": "code",
   "execution_count": 29,
   "id": "9c0067e2-08bf-4a76-b8f0-0c6f104a17d2",
   "metadata": {},
   "outputs": [],
   "source": [
    "import torch\n",
    "import torchvision\n",
    "from torchvision.datasets import ImageFolder"
   ]
  },
  {
   "cell_type": "code",
   "execution_count": 30,
   "id": "4c36ed15-49a4-40a2-8608-f26435be0312",
   "metadata": {},
   "outputs": [],
   "source": [
    "train_path = \"project_data/project_analysis/sag/\""
   ]
  },
  {
   "cell_type": "code",
   "execution_count": 31,
   "id": "bc872686-9cae-408c-a0a4-a99b19aabbb7",
   "metadata": {},
   "outputs": [],
   "source": [
    "#from tqdm import tqdm\n",
    "train_data = torchvision.datasets.ImageFolder(root=train_path)"
   ]
  },
  {
   "cell_type": "code",
   "execution_count": 32,
   "id": "698f507e-cec2-4d3b-a31c-6ff8ae6d4d3e",
   "metadata": {},
   "outputs": [
    {
     "name": "stdout",
     "output_type": "stream",
     "text": [
      "16939\n"
     ]
    }
   ],
   "source": [
    "print(len(train_data))"
   ]
  },
  {
   "cell_type": "code",
   "execution_count": 35,
   "id": "23bdb447-a81c-40eb-8bc3-3c8838ded57f",
   "metadata": {},
   "outputs": [
    {
     "data": {
      "text/plain": [
       "(<PIL.Image.Image image mode=RGB size=512x268 at 0x2AE84760AA30>, 0)"
      ]
     },
     "execution_count": 35,
     "metadata": {},
     "output_type": "execute_result"
    }
   ],
   "source": [
    "train_data[0]"
   ]
  },
  {
   "cell_type": "code",
   "execution_count": null,
   "id": "9f0d6334-20e6-4650-8b68-a3fa42db2f94",
   "metadata": {},
   "outputs": [],
   "source": []
  }
 ],
 "metadata": {
  "kernelspec": {
   "display_name": "Python 3",
   "language": "python",
   "name": "python3"
  },
  "language_info": {
   "codemirror_mode": {
    "name": "ipython",
    "version": 3
   },
   "file_extension": ".py",
   "mimetype": "text/x-python",
   "name": "python",
   "nbconvert_exporter": "python",
   "pygments_lexer": "ipython3",
   "version": "3.8.8"
  }
 },
 "nbformat": 4,
 "nbformat_minor": 5
}
