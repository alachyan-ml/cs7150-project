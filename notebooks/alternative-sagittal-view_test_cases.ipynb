{
 "cells": [
  {
   "cell_type": "code",
   "execution_count": 2,
   "metadata": {
    "tags": []
   },
   "outputs": [
    {
     "name": "stdout",
     "output_type": "stream",
     "text": [
      "\u001b[31mERROR: pip's dependency resolver does not currently take into account all the packages that are installed. This behaviour is the source of the following dependency conflicts.\n",
      "scipy 1.6.2 requires numpy<1.23.0,>=1.16.5, but you have numpy 1.23.5 which is incompatible.\u001b[0m\n"
     ]
    }
   ],
   "source": [
    "#! pip install pylibjpeg -q\n",
    "#! pip install python-gdcm -q\n",
    "#! pip install pylibjpeg-libjpeg -q"
   ]
  },
  {
   "cell_type": "code",
   "execution_count": 5,
   "metadata": {},
   "outputs": [],
   "source": [
    "!pip install fastai kornia pydicom -q"
   ]
  },
  {
   "cell_type": "code",
   "execution_count": 1,
   "metadata": {
    "_cell_guid": "b1076dfc-b9ad-4769-8c92-a6c4dae69d19",
    "_uuid": "8f2839f25d086af736a60e9eeb907d3b93b6e0e5",
    "tags": []
   },
   "outputs": [],
   "source": [
    "import numpy as np \n",
    "import pandas as pd \n",
    "import os\n",
    "\n",
    "## new library - https://docs.fast.ai/\n",
    "from fastai.vision.all import *\n",
    "from fastai.medical.imaging import *\n",
    "from fastcore.all import *\n",
    "\n",
    "## image handling and plotting\n",
    "import pydicom\n",
    "import matplotlib.pyplot as plt\n",
    "import matplotlib.image as mpimg\n",
    "\n",
    "from pathlib import Path"
   ]
  },
  {
   "cell_type": "code",
   "execution_count": 2,
   "metadata": {
    "tags": []
   },
   "outputs": [],
   "source": [
    "#Get working directory and define test data\n",
    "DATA_DIR = Path(\"project_data/\")\n",
    "test_cases = list((DATA_DIR/\"test_images\").glob('*'))"
   ]
  },
  {
   "cell_type": "code",
   "execution_count": 3,
   "metadata": {
    "tags": []
   },
   "outputs": [
    {
     "name": "stdout",
     "output_type": "stream",
     "text": [
      "3\n"
     ]
    }
   ],
   "source": [
    "from tqdm.notebook import tqdm\n",
    "print(len(test_cases))"
   ]
  },
  {
   "cell_type": "code",
   "execution_count": 4,
   "metadata": {
    "tags": []
   },
   "outputs": [
    {
     "data": {
      "application/vnd.jupyter.widget-view+json": {
       "model_id": "f255844766e94ce78a11bfee65ff4f44",
       "version_major": 2,
       "version_minor": 0
      },
      "text/plain": [
       "  0%|          | 0/3 [00:00<?, ?it/s]"
      ]
     },
     "metadata": {},
     "output_type": "display_data"
    }
   ],
   "source": [
    "## FastAI get metadata for first image in training images\n",
    "first_images = []\n",
    "for case in tqdm(test_cases):\n",
    "    fns = list(case.glob('*'))\n",
    "    first_images.append(fns[0]) #there are 2019 images that make up first training case"
   ]
  },
  {
   "cell_type": "code",
   "execution_count": 5,
   "metadata": {
    "tags": []
   },
   "outputs": [
    {
     "data": {
      "text/html": [
       "<div>\n",
       "<style scoped>\n",
       "    .dataframe tbody tr th:only-of-type {\n",
       "        vertical-align: middle;\n",
       "    }\n",
       "\n",
       "    .dataframe tbody tr th {\n",
       "        vertical-align: top;\n",
       "    }\n",
       "\n",
       "    .dataframe thead th {\n",
       "        text-align: right;\n",
       "    }\n",
       "</style>\n",
       "<table border=\"1\" class=\"dataframe\">\n",
       "  <thead>\n",
       "    <tr style=\"text-align: right;\">\n",
       "      <th></th>\n",
       "      <th>SOPInstanceUID</th>\n",
       "      <th>ContentDate</th>\n",
       "      <th>ContentTime</th>\n",
       "      <th>PatientName</th>\n",
       "      <th>PatientID</th>\n",
       "      <th>SliceThickness</th>\n",
       "      <th>StudyInstanceUID</th>\n",
       "      <th>SeriesInstanceUID</th>\n",
       "      <th>InstanceNumber</th>\n",
       "      <th>MultiImagePositionPatient</th>\n",
       "      <th>...</th>\n",
       "      <th>fname</th>\n",
       "      <th>img_min</th>\n",
       "      <th>img_max</th>\n",
       "      <th>img_mean</th>\n",
       "      <th>img_std</th>\n",
       "      <th>img_pct_window</th>\n",
       "      <th>MultiWindowCenter</th>\n",
       "      <th>WindowCenter1</th>\n",
       "      <th>MultiWindowWidth</th>\n",
       "      <th>WindowWidth1</th>\n",
       "    </tr>\n",
       "  </thead>\n",
       "  <tbody>\n",
       "    <tr>\n",
       "      <th>0</th>\n",
       "      <td>1.2.826.0.1.3680043.22327.1.1</td>\n",
       "      <td>20220727</td>\n",
       "      <td>184152.142329</td>\n",
       "      <td>(2, 2, 3, 2, 7)</td>\n",
       "      <td>22327</td>\n",
       "      <td>0.625</td>\n",
       "      <td>1.2.826.0.1.3680043.22327</td>\n",
       "      <td>1.2.826.0.1.3680043.22327.1</td>\n",
       "      <td>1</td>\n",
       "      <td>1</td>\n",
       "      <td>...</td>\n",
       "      <td>project_data/test_images/1.2.826.0.1.3680043.22327/1.dcm</td>\n",
       "      <td>-1024</td>\n",
       "      <td>3152</td>\n",
       "      <td>381.983643</td>\n",
       "      <td>904.668762</td>\n",
       "      <td>0.186218</td>\n",
       "      <td>NaN</td>\n",
       "      <td>NaN</td>\n",
       "      <td>NaN</td>\n",
       "      <td>NaN</td>\n",
       "    </tr>\n",
       "    <tr>\n",
       "      <th>1</th>\n",
       "      <td>1.2.826.0.1.3680043.25399.1.1</td>\n",
       "      <td>20220727</td>\n",
       "      <td>183344.911788</td>\n",
       "      <td>(2, 5, 3, 9, 9)</td>\n",
       "      <td>25399</td>\n",
       "      <td>0.600</td>\n",
       "      <td>1.2.826.0.1.3680043.25399</td>\n",
       "      <td>1.2.826.0.1.3680043.25399.1</td>\n",
       "      <td>1</td>\n",
       "      <td>1</td>\n",
       "      <td>...</td>\n",
       "      <td>project_data/test_images/1.2.826.0.1.3680043.25399/1.dcm</td>\n",
       "      <td>0</td>\n",
       "      <td>3821</td>\n",
       "      <td>766.868397</td>\n",
       "      <td>647.740118</td>\n",
       "      <td>0.087982</td>\n",
       "      <td>1.0</td>\n",
       "      <td>50.0</td>\n",
       "      <td>1.0</td>\n",
       "      <td>350.0</td>\n",
       "    </tr>\n",
       "    <tr>\n",
       "      <th>2</th>\n",
       "      <td>1.2.826.0.1.3680043.5876.1.1</td>\n",
       "      <td>20220727</td>\n",
       "      <td>181018.233517</td>\n",
       "      <td>(5, 8, 7, 6)</td>\n",
       "      <td>5876</td>\n",
       "      <td>0.500</td>\n",
       "      <td>1.2.826.0.1.3680043.5876</td>\n",
       "      <td>1.2.826.0.1.3680043.5876.1</td>\n",
       "      <td>1</td>\n",
       "      <td>1</td>\n",
       "      <td>...</td>\n",
       "      <td>project_data/test_images/1.2.826.0.1.3680043.5876/1.dcm</td>\n",
       "      <td>-2048</td>\n",
       "      <td>2504</td>\n",
       "      <td>-454.901672</td>\n",
       "      <td>990.768668</td>\n",
       "      <td>0.159252</td>\n",
       "      <td>NaN</td>\n",
       "      <td>NaN</td>\n",
       "      <td>NaN</td>\n",
       "      <td>NaN</td>\n",
       "    </tr>\n",
       "  </tbody>\n",
       "</table>\n",
       "<p>3 rows × 45 columns</p>\n",
       "</div>"
      ],
      "text/plain": [
       "                  SOPInstanceUID ContentDate    ContentTime      PatientName  \\\n",
       "0  1.2.826.0.1.3680043.22327.1.1    20220727  184152.142329  (2, 2, 3, 2, 7)   \n",
       "1  1.2.826.0.1.3680043.25399.1.1    20220727  183344.911788  (2, 5, 3, 9, 9)   \n",
       "2   1.2.826.0.1.3680043.5876.1.1    20220727  181018.233517     (5, 8, 7, 6)   \n",
       "\n",
       "  PatientID  SliceThickness           StudyInstanceUID  \\\n",
       "0     22327           0.625  1.2.826.0.1.3680043.22327   \n",
       "1     25399           0.600  1.2.826.0.1.3680043.25399   \n",
       "2      5876           0.500   1.2.826.0.1.3680043.5876   \n",
       "\n",
       "             SeriesInstanceUID  InstanceNumber  MultiImagePositionPatient  \\\n",
       "0  1.2.826.0.1.3680043.22327.1               1                          1   \n",
       "1  1.2.826.0.1.3680043.25399.1               1                          1   \n",
       "2   1.2.826.0.1.3680043.5876.1               1                          1   \n",
       "\n",
       "   ...                                                     fname  img_min  \\\n",
       "0  ...  project_data/test_images/1.2.826.0.1.3680043.22327/1.dcm    -1024   \n",
       "1  ...  project_data/test_images/1.2.826.0.1.3680043.25399/1.dcm        0   \n",
       "2  ...   project_data/test_images/1.2.826.0.1.3680043.5876/1.dcm    -2048   \n",
       "\n",
       "   img_max    img_mean     img_std  img_pct_window  MultiWindowCenter  \\\n",
       "0     3152  381.983643  904.668762        0.186218                NaN   \n",
       "1     3821  766.868397  647.740118        0.087982                1.0   \n",
       "2     2504 -454.901672  990.768668        0.159252                NaN   \n",
       "\n",
       "   WindowCenter1  MultiWindowWidth  WindowWidth1  \n",
       "0            NaN               NaN           NaN  \n",
       "1           50.0               1.0         350.0  \n",
       "2            NaN               NaN           NaN  \n",
       "\n",
       "[3 rows x 45 columns]"
      ]
     },
     "execution_count": 5,
     "metadata": {},
     "output_type": "execute_result"
    }
   ],
   "source": [
    "#FastAI converts dicom data to a dataframe\n",
    "metadata = pd.DataFrame.from_dicoms(first_images)\n",
    "metadata.head()"
   ]
  },
  {
   "cell_type": "code",
   "execution_count": 6,
   "metadata": {
    "tags": []
   },
   "outputs": [],
   "source": [
    "#Convert to CSV?\n",
    "metadata.to_csv('project_data/project_analysis/df_test.csv',index=False)"
   ]
  },
  {
   "cell_type": "code",
   "execution_count": 7,
   "metadata": {
    "tags": []
   },
   "outputs": [
    {
     "data": {
      "text/plain": [
       "(array([1., 0., 0., 1., 0., 0., 0., 0., 0., 1.]),\n",
       " array([2000. , 2166.5, 2333. , 2499.5, 2666. , 2832.5, 2999. , 3165.5,\n",
       "        3332. , 3498.5, 3665. ]),\n",
       " <BarContainer object of 10 artists>)"
      ]
     },
     "execution_count": 7,
     "metadata": {},
     "output_type": "execute_result"
    },
    {
     "data": {
      "image/png": "[encoded data removed]",
      "text/plain": [
       "<Figure size 432x288 with 1 Axes>"
      ]
     },
     "metadata": {
      "needs_background": "light"
     },
     "output_type": "display_data"
    }
   ],
   "source": [
    "window_center = metadata.WindowCenter.values\n",
    "window_width = metadata.WindowWidth.values\n",
    "\n",
    "#blue is center and orange is width\n",
    "plt.hist(window_center)\n",
    "plt.hist(window_width)"
   ]
  },
  {
   "cell_type": "code",
   "execution_count": 8,
   "metadata": {
    "tags": []
   },
   "outputs": [],
   "source": [
    "#default values set to mode of window center and window width\n",
    "default_window_center = metadata.WindowCenter.mode()\n",
    "default_window_width = metadata.WindowWidth.mode()"
   ]
  },
  {
   "cell_type": "code",
   "execution_count": 9,
   "metadata": {
    "tags": []
   },
   "outputs": [],
   "source": [
    "#Adapted from:\n",
    "#https://pydicom.github.io/pydicom/dev/auto_examples/image_processing/reslice.html\n",
    "def create_3d(case):\n",
    "    files = []\n",
    "    fns = get_dicom_files(case)\n",
    "    for fn in fns:\n",
    "        files.append(pydicom.dcmread(fn))\n",
    "        \n",
    "    # skip files with no InstanceNumber (eg. Scout)\n",
    "    slices = []\n",
    "    skipcount = 0\n",
    "    for f in files:\n",
    "        if hasattr(f, 'InstanceNumber'):\n",
    "            slices.append(f)\n",
    "        else:\n",
    "            skipcount = skipcount + 1\n",
    "\n",
    "    if skipcount > 0:\n",
    "        print(\"skipped, no InstanceNumber: {}\".format(skipcount))\n",
    "\n",
    "    # ensure they are in the correct order\n",
    "    slices = sorted(slices, key=lambda s: s.ImagePositionPatient[2])\n",
    "    dcm = slices[0]\n",
    "\n",
    "    # pixel aspects, assuming all slices are the same\n",
    "    ps = dcm.PixelSpacing\n",
    "    ss = dcm.SliceThickness\n",
    "    #ax_aspect = ps[1]/ps[0]\n",
    "    sag_aspect = ps[1]/ss\n",
    "    #cor_aspect = ss/ps[0]\n",
    "    \n",
    "    # create 3D array\n",
    "    img_shape = list(dcm.pixel_array.shape)\n",
    "    img_shape.append(len(slices))\n",
    "    img3d = np.zeros(img_shape)\n",
    "    \n",
    "    # fill 3D array with the images from the files\n",
    "    for i, s in enumerate(slices):\n",
    "        img2d = dcm_apply_windows(s)\n",
    "        img3d[:, :, i] = img2d\n",
    "        \n",
    "    return img3d, sag_aspect, fn.parent.name\n",
    "\n",
    "def save_sag(img3d, sag_aspect, folder_name, interval=5, dist_from_cent=5):\n",
    "    img_shape = img3d.shape\n",
    "    #i=5\n",
    "    for i in range(-(dist_from_cent) * interval, dist_from_cent * interval, interval):\n",
    "        arr = img3d[:, img_shape[1]//2 + i, :] * sag_aspect\n",
    "        #flip and rotate so that C1 is at the top\n",
    "        arr = np.fliplr(arr)\n",
    "        arr = np.transpose(arr)\n",
    "        #array is a tensor from 0 - 1.0, multiply by 256 to get 8 bit image\n",
    "        arr *= 256\n",
    "        dir_name = f\"project_data/project_analysis/sag_test/{folder_name}\"\n",
    "        if not os.path.isdir(dir_name):\n",
    "             os.makedirs(f\"project_data/project_analysis/sag_test/{folder_name}\", exist_ok=True)\n",
    "        im = Image.fromarray(arr)\n",
    "        #to avoid error from F mode\n",
    "        if im.mode != 'RGB':\n",
    "            im = im.convert('RGB')\n",
    "        save_fn = f'project_data/project_analysis/sag_test/{folder_name}/{folder_name}_{i}.jpg'\n",
    "        if save_fn not in dir_name:\n",
    "            im.save(save_fn)"
   ]
  },
  {
   "cell_type": "code",
   "execution_count": 10,
   "metadata": {
    "tags": []
   },
   "outputs": [],
   "source": [
    "def get_window_from_dicom(dcm, default = (default_window_width,default_window_center)):\n",
    "    \"\"\"\n",
    "    Returns window width and window center values or first example if MultiValue\n",
    "    Strips comma from value if present (seen in a different dataset)\n",
    "    If no window width/level is provided or available, returns default.\n",
    "    \"\"\"\n",
    "    width, level = default\n",
    "\n",
    "    if \"WindowWidth\" in dcm:\n",
    "        width = dcm.WindowWidth\n",
    "        if isinstance(width, pydicom.multival.MultiValue):\n",
    "            width = float(width[0])\n",
    "        else:\n",
    "            width = float(str(width).replace(',', ''))\n",
    "\n",
    "    if \"WindowCenter\" in dcm:\n",
    "        level = dcm.WindowCenter\n",
    "        if isinstance(level, pydicom.multival.MultiValue):\n",
    "            level = float(level[0])\n",
    "        else:\n",
    "            level = float(str(level).replace(',', ''))\n",
    "            \n",
    "    return width, level\n",
    "\n",
    "\n",
    "def dcm_apply_windows(dcm):\n",
    "    \"\"\"\n",
    "    Applies Intercept/Slope and Window Center/Width\n",
    "    \"\"\"\n",
    "    arr = dcm.pixel_array\n",
    "    #slope, intercept\n",
    "    slope = 1\n",
    "    intercept = 0\n",
    "    if \"RescaleIntercept\" in dcm and \"RescaleSlope\" in dcm:\n",
    "        intercept = int(dcm.RescaleIntercept)\n",
    "        slope = int(dcm.RescaleSlope)\n",
    "        \n",
    "    arr = arr * slope + intercept\n",
    "    \n",
    "    #window\n",
    "    width,level = get_window_from_dicom(dcm)\n",
    "    if width is not None and level is not None:\n",
    "        arr = np.clip(arr, level - width // 2, level + width // 2)\n",
    "        \n",
    "     #scale\n",
    "    arr = (arr - np.min(arr)) / np.max(arr)\n",
    "        \n",
    "    return arr"
   ]
  },
  {
   "cell_type": "code",
   "execution_count": 11,
   "metadata": {
    "tags": []
   },
   "outputs": [],
   "source": [
    "def show_case(folder_name, interval=5):\n",
    "    plt.figure(figsize=(16, 12))\n",
    "    count = 1\n",
    "    #for i in range(-4 * interval, 5 * interval, interval):\n",
    "    print(5)\n",
    "    fn = f'project_data/project_analysis/sag_test/{folder_name}/{folder_name}_{5}.jpg'\n",
    "    print(\"found image\")\n",
    "    img = mpimg.imread(fn)\n",
    "    print(\"read image\")\n",
    "    plt.subplot(3,3,count)\n",
    "    count += 1\n",
    "    plt.imshow(img, cmap='bone')\n",
    "    plt.axis(\"off\")\n",
    "    plt.show()"
   ]
  },
  {
   "cell_type": "code",
   "execution_count": 12,
   "metadata": {
    "tags": []
   },
   "outputs": [],
   "source": [
    "#case = DATA_DIR/'train_images/1.2.826.0.1.3680043.2487'\n",
    "\n",
    "#img3d, sag_aspect, folder_name = create_3d(case)\n",
    "#save_sag( img3d, sag_aspect, folder_name)\n",
    "#show_case('1.2.826.0.1.3680043.2487')"
   ]
  },
  {
   "cell_type": "code",
   "execution_count": 13,
   "metadata": {
    "tags": []
   },
   "outputs": [
    {
     "data": {
      "application/vnd.jupyter.widget-view+json": {
       "model_id": "864248060a7c4bc8873a79a552cade4d",
       "version_major": 2,
       "version_minor": 0
      },
      "text/plain": [
       "  0%|          | 0/3 [00:00<?, ?it/s]"
      ]
     },
     "metadata": {},
     "output_type": "display_data"
    },
    {
     "name": "stdout",
     "output_type": "stream",
     "text": [
      "Patient #0 complete\n",
      "Patient #1 complete\n",
      "Patient #2 complete\n"
     ]
    }
   ],
   "source": [
    "def to_sag(case):\n",
    "    img3d, sag_aspect, folder_name = create_3d(case)\n",
    "    save_sag( img3d, sag_aspect, folder_name,dist_from_cent=50)\n",
    "    #print(str(case) + \" complete\")\n",
    "\n",
    "    \n",
    "cases = (DATA_DIR/\"test_images\").glob('*')\n",
    "#parallel(to_sag, list(cases))\n",
    "i = 0\n",
    "for case in tqdm(list(cases)):\n",
    "    print(\"Patient #\" + str(i) + \" complete\")\n",
    "    to_sag(case)\n",
    "    i += 1\n",
    "    \n"
   ]
  },
  {
   "cell_type": "code",
   "execution_count": 17,
   "metadata": {},
   "outputs": [
    {
     "name": "stdout",
     "output_type": "stream",
     "text": [
      "100\n"
     ]
    }
   ],
   "source": [
    "\n",
    "#%cd project_data/project_analysis/sag_test/1.2.826.0.1.3680043.22327\n",
    "#%pwd\n",
    "%ls | wc -l"
   ]
  },
  {
   "cell_type": "code",
   "execution_count": null,
   "metadata": {
    "tags": []
   },
   "outputs": [],
   "source": [
    "cases = (DATA_DIR/\"test_images\").glob('*')\n",
    "print(next(cases))\n",
    "\n",
    "#instead of showing 9 cases, show one image"
   ]
  },
  {
   "cell_type": "code",
   "execution_count": 32,
   "metadata": {
    "execution": {
     "iopub.execute_input": "2022-11-21T20:10:43.805811Z",
     "iopub.status.busy": "2022-11-21T20:10:43.805202Z",
     "iopub.status.idle": "2022-11-21T20:10:43.845518Z",
     "shell.execute_reply": "2022-11-21T20:10:43.836620Z",
     "shell.execute_reply.started": "2022-11-21T20:10:43.805674Z"
    }
   },
   "outputs": [
    {
     "ename": "NameError",
     "evalue": "name 'to_sag' is not defined",
     "output_type": "error",
     "traceback": [
      "\u001b[0;31m---------------------------------------------------------------------------\u001b[0m",
      "\u001b[0;31mNameError\u001b[0m                                 Traceback (most recent call last)",
      "\u001b[0;32m/tmp/ipykernel_23/3288159922.py\u001b[0m in \u001b[0;36m<module>\u001b[0;34m\u001b[0m\n\u001b[0;32m----> 1\u001b[0;31m \u001b[0mto_sag\u001b[0m\u001b[0;34m(\u001b[0m\u001b[0;34m'1.2.826.0.1.3680043.12138'\u001b[0m\u001b[0;34m)\u001b[0m\u001b[0;34m\u001b[0m\u001b[0;34m\u001b[0m\u001b[0m\n\u001b[0m\u001b[1;32m      2\u001b[0m \u001b[0mshow_case\u001b[0m\u001b[0;34m(\u001b[0m\u001b[0;34m'1.2.826.0.1.3680043.12138'\u001b[0m\u001b[0;34m)\u001b[0m\u001b[0;34m\u001b[0m\u001b[0;34m\u001b[0m\u001b[0m\n",
      "\u001b[0;31mNameError\u001b[0m: name 'to_sag' is not defined"
     ]
    }
   ],
   "source": [
    "to_sag('1.2.826.0.1.3680043.12138')\n",
    "\n",
    "\n",
    "show_case('1.2.826.0.1.3680043.12138')"
   ]
  },
  {
   "cell_type": "code",
   "execution_count": 1,
   "metadata": {},
   "outputs": [
    {
     "name": "stdout",
     "output_type": "stream",
     "text": [
      "alternative-sagittal-view-11-22-2022.ipynb\n",
      "alternative-sagittal-view.ipynb\n",
      "\u001b[0m\u001b[01;34mproject_data\u001b[0m/\n",
      "\u001b[01;34mproject_models\u001b[0m/\n",
      "rsna-2022-cervical-spine-fracture-detection.zip\n",
      "test-file.ipynb\n",
      "test.txt\n"
     ]
    }
   ],
   "source": [
    "%ls"
   ]
  },
  {
   "cell_type": "code",
   "execution_count": 2,
   "metadata": {},
   "outputs": [
    {
     "name": "stdout",
     "output_type": "stream",
     "text": [
      "/work/courses/cs7150-AL-SK/project_data/project_analysis\n"
     ]
    }
   ],
   "source": [
    "%cd project_data/project_analysis/"
   ]
  },
  {
   "cell_type": "code",
   "execution_count": 4,
   "metadata": {},
   "outputs": [
    {
     "name": "stdout",
     "output_type": "stream",
     "text": [
      "df.csv  \u001b[0m\u001b[01;34msag\u001b[0m/\n",
      "/work/courses/cs7150-AL-SK/project_data/project_analysis/sag\n"
     ]
    }
   ],
   "source": [
    "%ls\n",
    "%cd sag"
   ]
  },
  {
   "cell_type": "code",
   "execution_count": 5,
   "metadata": {},
   "outputs": [
    {
     "name": "stdout",
     "output_type": "stream",
     "text": [
      "1882\n"
     ]
    }
   ],
   "source": [
    "%ls -1 | wc -l"
   ]
  },
  {
   "cell_type": "code",
   "execution_count": null,
   "metadata": {},
   "outputs": [],
   "source": []
  }
 ],
 "metadata": {
  "kernelspec": {
   "display_name": "Python 3 (ipykernel)",
   "language": "python",
   "name": "python3"
  },
  "language_info": {
   "codemirror_mode": {
    "name": "ipython",
    "version": 3
   },
   "file_extension": ".py",
   "mimetype": "text/x-python",
   "name": "python",
   "nbconvert_exporter": "python",
   "pygments_lexer": "ipython3",
   "version": "3.7.11"
  }
 },
 "nbformat": 4,
 "nbformat_minor": 4
}
